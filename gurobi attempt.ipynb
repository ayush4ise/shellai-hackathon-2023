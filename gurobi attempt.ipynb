{
 "cells": [
  {
   "cell_type": "code",
   "execution_count": null,
   "metadata": {},
   "outputs": [],
   "source": [
    "import pandas as pd\n",
    "import numpy as np\n",
    "from statsmodels.tsa.api import SimpleExpSmoothing\n",
    "\n",
    "data = pd.read_csv('d:\\Projects\\dataset\\Biomass_History.csv', index_col=0)\n",
    "dist_matrix = pd.read_csv(\"D:\\Projects\\dataset\\Distance_Matrix.csv\", index_col=0)\n",
    "testdata = data.copy()"
   ]
  },
  {
   "cell_type": "code",
   "execution_count": null,
   "metadata": {},
   "outputs": [],
   "source": [
    "years = list(data.columns[2:])\n",
    "def simpleexp(row):\n",
    "    model = SimpleExpSmoothing(row[years])\n",
    "    model_fit = model.fit()\n",
    "    row['2018'] = model_fit.forecast(2)[0]\n",
    "    row['2019'] = model_fit.forecast(2)[1]\n",
    "    return row\n",
    "\n",
    "testdata = testdata.apply(simpleexp, axis=1)"
   ]
  },
  {
   "cell_type": "code",
   "execution_count": null,
   "metadata": {},
   "outputs": [],
   "source": [
    "#testdata.to_excel(r'D:\\Projects\\dataset\\forecasted.xlsx')"
   ]
  },
  {
   "cell_type": "code",
   "execution_count": null,
   "metadata": {},
   "outputs": [],
   "source": [
    "import gurobipy as gp \n",
    "from gurobipy import GRB\n",
    "from itertools import product\n",
    "\n",
    "num_biomass = num_depot = testdata['2018'].size\n",
    "cartesian_prod = list(product(range(num_biomass), range(num_depot)))\n",
    "\n",
    "# model\n",
    "model = gp.Model('facility_location')"
   ]
  },
  {
   "cell_type": "code",
   "execution_count": null,
   "metadata": {},
   "outputs": [],
   "source": [
    "# variables \n",
    "y_select = model.addVars(num_depot, vtype = GRB.BINARY, name = 'SELECT')\n",
    "biomass_assign = model.addVars(cartesian_prod, vtype = GRB.CONTINUOUS, name = 'ASSIGN')\n",
    "\n",
    "# objective\n",
    "model.setObjective((gp.quicksum(dist_matrix.values[(i,j)]*biomass_assign[(i,j)] for i, j in cartesian_prod)) + gp.quicksum((25000-gp.quicksum(biomass_assign[(i,j)] for i in range(num_biomass)))*y_select[j] for j in range(num_depot)), GRB.MINIMIZE)\n",
    "\n",
    "# constraints\n",
    "model.addConstrs((gp.quicksum(biomass_assign[(i,j)] for i in range(num_biomass)) <= 25000*y_select[j] for j in range(num_depot)), name = 'capacity')\n",
    "model.addConstr((gp.quicksum(y_select[j] for j in range(num_depot)) <= 25), 'limitdepot')\n",
    "model.addConstrs((gp.quicksum(biomass_assign[(i,j)] for j in range(num_depot)) <= testdata['2018'][i] for i in range(num_biomass)), name = 'lessthanforecast')\n",
    "model.addConstrs((gp.quicksum(biomass_assign[(i,j)] for j in range(num_depot)) >= 0.8* testdata['2018'][i] for i in range(num_biomass)), name = 'util80')\n",
    "\n",
    "model.optimize()"
   ]
  }
 ],
 "metadata": {
  "kernelspec": {
   "display_name": "Python 3",
   "language": "python",
   "name": "python3"
  },
  "language_info": {
   "codemirror_mode": {
    "name": "ipython",
    "version": 3
   },
   "file_extension": ".py",
   "mimetype": "text/x-python",
   "name": "python",
   "nbconvert_exporter": "python",
   "pygments_lexer": "ipython3",
   "version": "3.11.0"
  },
  "orig_nbformat": 4
 },
 "nbformat": 4,
 "nbformat_minor": 2
}
